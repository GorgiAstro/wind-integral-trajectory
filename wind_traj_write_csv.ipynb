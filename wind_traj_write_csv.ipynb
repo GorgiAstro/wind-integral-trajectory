{
 "cells": [
  {
   "cell_type": "code",
   "execution_count": 4,
   "metadata": {},
   "outputs": [],
   "source": [
    "from datetime import datetime, timezone, timedelta\n",
    "startDate = datetime(2011, 1, 23)\n",
    "endDate = datetime(2012, 1, 23, 4, 30, 0)"
   ]
  },
  {
   "cell_type": "code",
   "execution_count": 7,
   "metadata": {},
   "outputs": [],
   "source": [
    "import cdflib\n",
    "from pathlib import Path\n",
    "\n",
    "windPosition_km = pd.DataFrame(data=None, index=None)\n",
    "windVelocity_km_s = pd.DataFrame(data=None, index=None)\n",
    "windDateTime = pd.Series(data=None)\n",
    "\n",
    "p = Path('.')\n",
    "for windFileName in sorted(p.glob('wind_trajectory/*/*.cdf')):\n",
    "    # Browsing through daily data files in the folders\n",
    "    fileNameWithoutPath = windFileName.name\n",
    "    fileYear = int(fileNameWithoutPath[10:14])\n",
    "    fileMonth = int(fileNameWithoutPath[14:16])\n",
    "    fileDay = int(fileNameWithoutPath[16:18])\n",
    "    fileDate = datetime(fileYear, fileMonth, fileDay)\n",
    "    if (fileDate >= startDate) and (fileDate < endDate):\n",
    "        cdfFile = cdflib.CDF(windFileName)\n",
    "        # Getting position in Geocentric solar ecliptic (GSE) \n",
    "        # Other frames are available in the CDF file:\n",
    "        #   - Geocentric equatorial inertial (GCI) frame\n",
    "        #   - Geocentric solar magnetic (GSM)\n",
    "        timePb5 = cdfFile.varget(variable='Time_PB5')\n",
    "        currentDateTime = pd.Series([datetime(pb5cur[0], 1, 1) + timedelta(days=pb5cur[1].item()-1) + timedelta(milliseconds=pb5cur[2].item()) for pb5cur in timePb5])\n",
    "        gsePos = pd.DataFrame(data=cdfFile.varget(variable='GCI_POS'),\n",
    "                             index=currentDateTime,\n",
    "                             columns=['x','y','z'])\n",
    "        gseVel = pd.DataFrame(data=cdfFile.varget(variable='GCI_VEL'),\n",
    "                             index=currentDateTime,\n",
    "                             columns=['vx','vy','vz'])\n",
    "        \n",
    "        windPosition_km = pd.concat([windPosition_km, gsePos])\n",
    "        windVelocity_km_s = pd.concat([windVelocity_km_s, gseVel])\n",
    "        windDateTime = pd.concat([windDateTime, currentDateTime])"
   ]
  },
  {
   "cell_type": "markdown",
   "metadata": {},
   "source": [
    "Cropping the data to the date range"
   ]
  },
  {
   "cell_type": "code",
   "execution_count": 8,
   "metadata": {},
   "outputs": [],
   "source": [
    "windPosition_km = windPosition_km.loc[windPosition_km.index <= endDate]"
   ]
  },
  {
   "cell_type": "markdown",
   "metadata": {},
   "source": [
    "Writing position velocity to csv"
   ]
  },
  {
   "cell_type": "code",
   "execution_count": 9,
   "metadata": {},
   "outputs": [],
   "source": [
    "wind_pv_km = pd.concat([windPosition_km, windVelocity_km_s], axis=1, join='inner')\n",
    "wind_pv_km.to_csv('wind-pv-km-eme2000.csv')"
   ]
  },
  {
   "cell_type": "code",
   "execution_count": null,
   "metadata": {},
   "outputs": [],
   "source": []
  }
 ],
 "metadata": {
  "kernelspec": {
   "display_name": "Python 3",
   "language": "python",
   "name": "python3"
  },
  "language_info": {
   "codemirror_mode": {
    "name": "ipython",
    "version": 3
   },
   "file_extension": ".py",
   "mimetype": "text/x-python",
   "name": "python",
   "nbconvert_exporter": "python",
   "pygments_lexer": "ipython3",
   "version": "3.7.1"
  }
 },
 "nbformat": 4,
 "nbformat_minor": 2
}
