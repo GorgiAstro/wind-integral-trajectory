{
 "cells": [
  {
   "cell_type": "code",
   "execution_count": 1,
   "metadata": {},
   "outputs": [],
   "source": [
    "from datetime import datetime, timezone, timedelta\n",
    "startDate = datetime(2011, 1, 23, tzinfo=timezone.utc)\n",
    "endDate = datetime(2012, 1, 23, 4, 30, 0, tzinfo=timezone.utc)"
   ]
  },
  {
   "cell_type": "code",
   "execution_count": 2,
   "metadata": {},
   "outputs": [],
   "source": [
    "# Last TLE before January 23rd 2012\n",
    "tle_line1 = '1 27540U 02048A   12020.25000000 +.00000470 +00000-0 +10000-3 0  9999'\n",
    "tle_line2 = '2 27540 071.6749 301.1875 8925704 250.0416 001.6882 00.33421879007360'"
   ]
  },
  {
   "cell_type": "markdown",
   "metadata": {},
   "source": [
    "Setting up Orekit"
   ]
  },
  {
   "cell_type": "code",
   "execution_count": 3,
   "metadata": {},
   "outputs": [],
   "source": [
    "import orekit\n",
    "orekit.initVM()\n",
    "from orekit.pyhelpers import setup_orekit_curdir\n",
    "setup_orekit_curdir()"
   ]
  },
  {
   "cell_type": "code",
   "execution_count": 4,
   "metadata": {},
   "outputs": [],
   "source": [
    "from org.orekit.frames import *\n",
    "from org.orekit.utils import *\n",
    "eme2000 = FramesFactory.getEME2000()\n",
    "itrf = FramesFactory.getITRF(IERSConventions.IERS_2010, False)\n",
    "# Selecting frames to use for OD\n",
    "eci = eme2000\n",
    "ecef = itrf\n",
    "\n",
    "from org.orekit.models.earth import ReferenceEllipsoid\n",
    "wgs84Ellipsoid = ReferenceEllipsoid.getWgs84(ecef)\n",
    "from org.orekit.bodies import CelestialBodyFactory\n",
    "sun = CelestialBodyFactory.getSun()\n",
    "sun_pv_coordinates_provider = PVCoordinatesProvider.cast_(sun)"
   ]
  },
  {
   "cell_type": "code",
   "execution_count": 5,
   "metadata": {},
   "outputs": [],
   "source": [
    "from org.orekit.propagation.analytical.tle import TLE\n",
    "orekitTle = TLE(tle_line1, tle_line2)\n",
    "\n",
    "from org.orekit.attitudes import NadirPointing\n",
    "nadirPointing = NadirPointing(eci, wgs84Ellipsoid)\n",
    "\n",
    "from org.orekit.propagation.analytical.tle import SGP4\n",
    "sgp4Propagator = SGP4(orekitTle, nadirPointing, 4000.0)"
   ]
  },
  {
   "cell_type": "markdown",
   "metadata": {},
   "source": [
    "Propagating"
   ]
  },
  {
   "cell_type": "code",
   "execution_count": 6,
   "metadata": {},
   "outputs": [],
   "source": [
    "from orekit.pyhelpers import datetime_to_absolutedate, absolutedate_to_datetime\n",
    "start_date_orekit = datetime_to_absolutedate(startDate)\n",
    "end_date_orekit = datetime_to_absolutedate(endDate)\n",
    "current_date_orekit = start_date_orekit\n",
    "dt = 600.0\n",
    "\n",
    "import pandas as pd\n",
    "integralPosition_km = pd.DataFrame(columns=['x', 'y', 'z'])\n",
    "integralVelocity_km_s = pd.DataFrame(columns=['vx', 'vy', 'vz'])\n",
    "sunPosition_km = pd.DataFrame(columns=['x', 'y', 'z'])\n",
    "while current_date_orekit.compareTo(end_date_orekit) <= 0:\n",
    "    pv_eme2000_integral = sgp4Propagator.getPVCoordinates(current_date_orekit, eme2000)\n",
    "    pv_eme2000_sun = sun_pv_coordinates_provider.getPVCoordinates(current_date_orekit, eme2000)\n",
    "    \n",
    "    current_datetime = absolutedate_to_datetime(current_date_orekit)\n",
    "    \n",
    "    integralPosition_km.loc[current_datetime] = pv_eme2000_integral.getPosition().toArray()[0:3]\n",
    "    integralVelocity_km_s.loc[current_datetime] = pv_eme2000_integral.getVelocity().toArray()[0:3]\n",
    "    sunPosition_km.loc[current_datetime] = pv_eme2000_sun.getPosition().toArray()[0:3]\n",
    "    \n",
    "    current_date_orekit = current_date_orekit.shiftedBy(dt)\n",
    "integralPosition_km = 1e-3 * integralPosition_km\n",
    "integralVelocity_km_s = 1e-3 * integralVelocity_km_s\n",
    "sunPosition_km = 1e-3 * sunPosition_km"
   ]
  },
  {
   "cell_type": "markdown",
   "metadata": {},
   "source": [
    "Converting sun position to AU"
   ]
  },
  {
   "cell_type": "code",
   "execution_count": 7,
   "metadata": {},
   "outputs": [],
   "source": [
    "au2km = 149597870.7\n",
    "sunPosition_au = sunPosition_km / au2km"
   ]
  },
  {
   "cell_type": "markdown",
   "metadata": {},
   "source": [
    "Writing INTEGRAL trajectory to file"
   ]
  },
  {
   "cell_type": "code",
   "execution_count": 8,
   "metadata": {},
   "outputs": [],
   "source": [
    "integral_pv_km = pd.concat([integralPosition_km, integralVelocity_km_s], axis=1, join='inner')\n",
    "integral_pv_km.to_csv('integral-pv-km-eme2000.csv')"
   ]
  },
  {
   "cell_type": "markdown",
   "metadata": {},
   "source": [
    "Writing Sun position to file"
   ]
  },
  {
   "cell_type": "code",
   "execution_count": 9,
   "metadata": {},
   "outputs": [],
   "source": [
    "sunPosition_au.to_csv('sun-pos-au-eme2000.csv')"
   ]
  }
 ],
 "metadata": {
  "kernelspec": {
   "display_name": "Python 3",
   "language": "python",
   "name": "python3"
  },
  "language_info": {
   "codemirror_mode": {
    "name": "ipython",
    "version": 3
   },
   "file_extension": ".py",
   "mimetype": "text/x-python",
   "name": "python",
   "nbconvert_exporter": "python",
   "pygments_lexer": "ipython3",
   "version": "3.7.1"
  }
 },
 "nbformat": 4,
 "nbformat_minor": 2
}
