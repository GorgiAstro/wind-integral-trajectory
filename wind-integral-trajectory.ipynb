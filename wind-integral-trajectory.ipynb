{
 "cells": [
  {
   "cell_type": "markdown",
   "metadata": {},
   "source": [
    "# Description\n",
    "The code below does the following:\n",
    "\n",
    "* Download historical position data for the INTEGRAL spacecraft\n",
    "* Reads the CDF files describing WIND's trajectory\n",
    "* Plots the trajectory of both spacecrafts"
   ]
  },
  {
   "cell_type": "markdown",
   "metadata": {},
   "source": [
    "Parameters:"
   ]
  },
  {
   "cell_type": "code",
   "execution_count": 1,
   "metadata": {},
   "outputs": [],
   "source": [
    "from datetime import datetime, timezone, timedelta\n",
    "startDate = datetime(2012, 10, 1, tzinfo=timezone.utc)\n",
    "endDate = datetime(2013, 6, 1, tzinfo=timezone.utc)"
   ]
  },
  {
   "cell_type": "markdown",
   "metadata": {},
   "source": [
    "# INTEGRAL"
   ]
  },
  {
   "cell_type": "markdown",
   "metadata": {},
   "source": [
    "Downloading INTEGRAL position data"
   ]
  },
  {
   "cell_type": "code",
   "execution_count": 2,
   "metadata": {},
   "outputs": [],
   "source": [
    "integralSpiceId = '-198'\n",
    "observer = '500' # Earth\n",
    "from astroquery.jplhorizons import Horizons\n",
    "epochs = {'start': '{:4d}-{:02d}-{:02d}'.format(startDate.year, startDate.month, startDate.day),\n",
    "                         'stop': '{:4d}-{:02d}-{:02d}'.format(endDate.year, endDate.month, endDate.day),\n",
    "                         'step': '10m'}\n",
    "obj = Horizons(id=integralSpiceId,\n",
    "               location=observer,\n",
    "               epochs=epochs,\n",
    "               id_type='id')\n",
    "vec = obj.vectors()\n",
    "eph = obj.ephemerides()"
   ]
  },
  {
   "cell_type": "markdown",
   "metadata": {},
   "source": [
    "Converting the position and date format"
   ]
  },
  {
   "cell_type": "code",
   "execution_count": 3,
   "metadata": {},
   "outputs": [],
   "source": [
    "# By default, coordinates should be in J2000 ecliptic coordinates, but not sure...\n",
    "import numpy as np\n",
    "integralDate_jd = np.array([row[1] for row in vec]) # Date is defined in Julian date format\n",
    "integralPosition_au = np.array([[row[3], row[4], row[5]] for row in vec])\n",
    "integralDateTime = np.array([datetime.strptime(row[2], 'A.D. %Y-%b-%d %H:%M:%S.%f')\n",
    "                            for row in vec])\n",
    "au2km = 149597870.7\n",
    "integralPosition_km = au2km * integralPosition_au"
   ]
  },
  {
   "cell_type": "markdown",
   "metadata": {},
   "source": [
    "# WIND\n",
    "Reading WIND trajectory from CDF files"
   ]
  },
  {
   "cell_type": "code",
   "execution_count": 4,
   "metadata": {},
   "outputs": [],
   "source": [
    "import cdflib\n",
    "from pathlib import Path\n",
    "windPosition_km = None\n",
    "windDateTime = None\n",
    "p = Path('.')\n",
    "for windFileName in sorted(p.glob('wind_trajectory/*/*.cdf')):\n",
    "    fileNameWithoutPath = windFileName.name\n",
    "    fileYear = int(fileNameWithoutPath[10:14])\n",
    "    fileMonth = int(fileNameWithoutPath[14:16])\n",
    "    fileDay = int(fileNameWithoutPath[16:18])\n",
    "    fileDate = datetime(fileYear, fileMonth, fileDay, tzinfo=timezone.utc)\n",
    "    if (fileDate >= startDate) and (fileDate <= endDate):\n",
    "        cdfFile = cdflib.CDF(windFileName)\n",
    "        gciPos = cdfFile.varget(variable='GCI_POS')\n",
    "        # Getting position in Geocentric equatorial inertial (GCI)\n",
    "        # Other frames are available in the CDF file:\n",
    "        #   - Geocentric solar ecliptic (GSE) frame\n",
    "        #   - Geocentric solar magnetic (GSM)\n",
    "        timePb5 = cdfFile.varget(variable='Time_PB5')\n",
    "        currentDateTime = [datetime(pb5cur[0], 1, 1) + timedelta(days=pb5cur[1].item()-1) + timedelta(milliseconds=pb5cur[2].item()) for pb5cur in timePb5]\n",
    "            \n",
    "        if windPosition_km is None:\n",
    "            windPosition_km = gciPos\n",
    "            windDateTime = currentDateTime\n",
    "        else:\n",
    "            windPosition_km = np.concatenate((windPosition_km, gciPos))\n",
    "            windDateTime = np.concatenate((windDateTime, currentDateTime))\n",
    "            "
   ]
  },
  {
   "cell_type": "markdown",
   "metadata": {},
   "source": [
    "# Plotting both spacecrafts"
   ]
  },
  {
   "cell_type": "code",
   "execution_count": 6,
   "metadata": {},
   "outputs": [
    {
     "data": {
      "image/png": "[encoded data removed]",
      "text/plain": [
       "<Figure size 432x288 with 1 Axes>"
      ]
     },
     "metadata": {
      "needs_background": "light"
     },
     "output_type": "display_data"
    }
   ],
   "source": [
    "%matplotlib inline\n",
    "\n",
    "R_earth_km = 6371.0\n",
    "x_earth_km = np.array([R_earth_km * np.cos(t) for t in np.linspace(0, 2*np.pi, 100)])\n",
    "y_earth_km = np.array([R_earth_km * np.sin(t) for t in np.linspace(0, 2*np.pi, 100)])\n",
    "\n",
    "## Plotting\n",
    "import matplotlib.pyplot as plt\n",
    "plt.plot(x_earth_km, y_earth_km, 'k')\n",
    "plt.plot(0.0, 0.0, 'k', marker='x', label='Earth')\n",
    "plt.plot(windPosition_km[:, 0], windPosition_km[:, 1], 'C0', label='WIND',)\n",
    "plt.plot(windPosition_km[-1, 0], windPosition_km[-1, 1], 'C0', marker='.', markersize=10)\n",
    "plt.plot(integralPosition_km[:, 0], integralPosition_km[:, 1], 'C1', label='Integral')\n",
    "plt.plot(integralPosition_km[-1, 0], integralPosition_km[-1, 1], 'C1', marker='.', markersize=10)\n",
    "plt.xlabel('X (km)')\n",
    "plt.ylabel('Y (km)')\n",
    "plt.title('Integral and WIND trajectory around the Earth, Earth-centered inertial coordinates in equator plane')\n",
    "plt.axis('equal')\n",
    "plt.legend()\n",
    "plt.show()"
   ]
  },
  {
   "cell_type": "code",
   "execution_count": null,
   "metadata": {},
   "outputs": [],
   "source": []
  }
 ],
 "metadata": {
  "kernelspec": {
   "display_name": "Python 3",
   "language": "python",
   "name": "python3"
  },
  "language_info": {
   "codemirror_mode": {
    "name": "ipython",
    "version": 3
   },
   "file_extension": ".py",
   "mimetype": "text/x-python",
   "name": "python",
   "nbconvert_exporter": "python",
   "pygments_lexer": "ipython3",
   "version": "3.7.1"
  }
 },
 "nbformat": 4,
 "nbformat_minor": 2
}
