{
 "cells": [
  {
   "cell_type": "markdown",
   "metadata": {},
   "source": [
    "# Description\n",
    "The code below does the following:\n",
    "\n",
    "* Download historical position data for the INTEGRAL spacecraft\n",
    "* Reads the CDF files describing WIND's trajectory\n",
    "* Plots the trajectory of both spacecrafts\n",
    "\n",
    "The trajectory data are represented by Pandas dataframes."
   ]
  },
  {
   "cell_type": "markdown",
   "metadata": {},
   "source": [
    "Parameters:"
   ]
  },
  {
   "cell_type": "code",
   "execution_count": null,
   "metadata": {},
   "outputs": [],
   "source": [
    "from datetime import datetime, timezone, timedelta\n",
    "startDate = datetime(2011, 12, 23)\n",
    "endDate = datetime(2012, 1, 23, 4, 30, 0)"
   ]
  },
  {
   "cell_type": "markdown",
   "metadata": {},
   "source": [
    "Configuring Plotly for offline use in notebook"
   ]
  },
  {
   "cell_type": "code",
   "execution_count": null,
   "metadata": {},
   "outputs": [],
   "source": [
    "import plotly.offline as py\n",
    "py.init_notebook_mode(connected=True)"
   ]
  },
  {
   "cell_type": "markdown",
   "metadata": {},
   "source": [
    "Reading trajectory data from CSV"
   ]
  },
  {
   "cell_type": "code",
   "execution_count": null,
   "metadata": {},
   "outputs": [],
   "source": [
    "import pandas as pd\n",
    "windPosition_km = pd.read_csv('wind-pv-km-eme2000.csv', index_col=0, parse_dates=True)\n",
    "integralPosition_km = pd.read_csv('integral-pv-km-eme2000.csv', index_col=0, parse_dates=True)\n",
    "sunPosition_au = pd.read_csv('sun-pos-au-eme2000.csv', index_col=0, parse_dates=True)"
   ]
  },
  {
   "cell_type": "markdown",
   "metadata": {},
   "source": [
    "Cropping the data"
   ]
  },
  {
   "cell_type": "code",
   "execution_count": null,
   "metadata": {},
   "outputs": [],
   "source": [
    "windPosition_km = windPosition_km.loc[windPosition_km.index <= endDate]\n",
    "windPosition_km = windPosition_km.loc[windPosition_km.index >= startDate]\n",
    "integralPosition_km = integralPosition_km.loc[integralPosition_km.index <= endDate]\n",
    "integralPosition_km = integralPosition_km.loc[integralPosition_km.index >= startDate]\n",
    "sunPosition_au = sunPosition_au.loc[sunPosition_au.index <= endDate]\n",
    "sunPosition_au = sunPosition_au.loc[sunPosition_au.index >= startDate]"
   ]
  },
  {
   "cell_type": "markdown",
   "metadata": {},
   "source": [
    "# INTEGRAL\n",
    "Plotting INTEGRAL's trajectory using Plotly:"
   ]
  },
  {
   "cell_type": "code",
   "execution_count": null,
   "metadata": {},
   "outputs": [],
   "source": [
    "import plotly.graph_objs as go\n",
    "\n",
    "trace = go.Scatter3d(\n",
    "    x=integralPosition_km['x'], y=integralPosition_km['y'], z=integralPosition_km['z'],\n",
    "    mode='lines',\n",
    "    line=dict(\n",
    "        color='#1f77b4',\n",
    "        width=3\n",
    "    )\n",
    ")\n",
    "\n",
    "data = [trace]\n",
    "\n",
    "\n",
    "layout = go.Layout(\n",
    "    scene=dict(\n",
    "    aspectmode='data'\n",
    "    )\n",
    ")\n",
    "\n",
    "fig = dict(data=data, layout=layout)\n",
    "\n",
    "# py.iplot(fig)"
   ]
  },
  {
   "cell_type": "markdown",
   "metadata": {},
   "source": [
    "# WIND"
   ]
  },
  {
   "cell_type": "markdown",
   "metadata": {},
   "source": [
    "Plotting WIND's trajectory using Plotly"
   ]
  },
  {
   "cell_type": "code",
   "execution_count": null,
   "metadata": {},
   "outputs": [],
   "source": [
    "import plotly.graph_objs as go\n",
    "\n",
    "trace = go.Scatter3d(\n",
    "    x=windPosition_km['x'], y=windPosition_km['y'], z=windPosition_km['z'],\n",
    "    mode='lines',\n",
    "    line=dict(\n",
    "        #color='#1f77b4',\n",
    "        width=3\n",
    "    )\n",
    ")\n",
    "\n",
    "data = [trace]\n",
    "\n",
    "layout = go.Layout(\n",
    "    scene=dict(\n",
    "    aspectmode='data'\n",
    "    )\n",
    ")\n",
    "\n",
    "fig = dict(data=data, layout=layout)\n",
    "\n",
    "# py.iplot(fig)"
   ]
  },
  {
   "cell_type": "markdown",
   "metadata": {},
   "source": [
    "# Plotting both spacecrafts"
   ]
  },
  {
   "cell_type": "markdown",
   "metadata": {},
   "source": [
    "Normalizing Sun vector and adjusting it to WIND's distance"
   ]
  },
  {
   "cell_type": "code",
   "execution_count": null,
   "metadata": {},
   "outputs": [],
   "source": [
    "sunVector_WIND_distance = 1e6*sunPosition_au"
   ]
  },
  {
   "cell_type": "markdown",
   "metadata": {},
   "source": [
    "3D plot using Plotly"
   ]
  },
  {
   "cell_type": "code",
   "execution_count": null,
   "metadata": {},
   "outputs": [],
   "source": [
    "import plotly.graph_objs as go\n",
    "\n",
    "earthCenter = go.Scatter3d(\n",
    "    x=[0], y=[0], z=[0],\n",
    "    mode='markers',\n",
    "    name='Earth center'\n",
    ")\n",
    "\n",
    "windTrace = go.Scatter3d(\n",
    "    x=windPosition_km['x'], y=windPosition_km['y'], z=windPosition_km['z'],\n",
    "    mode='lines',\n",
    "    line=dict(\n",
    "        #color='#1f77b4',\n",
    "        width=3\n",
    "    ),\n",
    "    name='WIND orbit'\n",
    ")\n",
    "\n",
    "windPosition = go.Scatter3d(\n",
    "    x=[windPosition_km.iloc[-1]['x']], y=[windPosition_km.iloc[-1]['y']], z=[windPosition_km.iloc[-1]['z']],\n",
    "    mode='markers',\n",
    "    name='WIND current position'\n",
    ")\n",
    "\n",
    "integralTrace = go.Scatter3d(\n",
    "    x=integralPosition_km['x'], y=integralPosition_km['y'], z=integralPosition_km['z'],\n",
    "    mode='lines',\n",
    "    line=dict(\n",
    "        #color='#1f77b4',\n",
    "        width=3\n",
    "    ),\n",
    "    name='INTEGRAL orbit'\n",
    ")\n",
    "\n",
    "integralPosition = go.Scatter3d(\n",
    "    x=[integralPosition_km.iloc[-1]['x']], y=[integralPosition_km.iloc[-1]['y']], z=[integralPosition_km.iloc[-1]['z']],\n",
    "    mode='markers',\n",
    "    name='INTEGRAL current position'\n",
    ")\n",
    "\n",
    "sunDirection = go.Scatter3d(\n",
    "    x=[0, sunVector_WIND_distance.iloc[-1]['x']], y=[0, sunVector_WIND_distance.iloc[-1]['y']], z=[0, sunVector_WIND_distance.iloc[-1]['z']],\n",
    "    mode='lines',\n",
    "    line=dict(\n",
    "        color='#ffff00',\n",
    "        width=4\n",
    "    ),\n",
    "    name='Sun direction'\n",
    ")\n",
    "\n",
    "data = [sunDirection, windTrace, windPosition, integralTrace, integralPosition, earthCenter]\n",
    "\n",
    "layout = go.Layout(\n",
    "    scene=dict(\n",
    "    aspectmode='data'\n",
    "    )\n",
    ")\n",
    "\n",
    "fig = dict(data=data, layout=layout)\n",
    "\n",
    "py.iplot(fig)"
   ]
  },
  {
   "cell_type": "markdown",
   "metadata": {},
   "source": [
    "2D plot in equator plane"
   ]
  },
  {
   "cell_type": "code",
   "execution_count": null,
   "metadata": {},
   "outputs": [],
   "source": [
    "import plotly.graph_objs as go\n",
    "\n",
    "earthCenter = go.Scatter(\n",
    "    x=[0], y=[0],\n",
    "    mode='markers',\n",
    "    name='Earth center',\n",
    "    marker=dict(\n",
    "        size=10)\n",
    ")\n",
    "\n",
    "windTrace = go.Scatter(\n",
    "    x=windPosition_km['x'], y=windPosition_km['y'],\n",
    "    mode='lines',\n",
    "    line=dict(\n",
    "        #color='#1f77b4',\n",
    "        width=3\n",
    "    ),\n",
    "    name='WIND orbit'\n",
    ")\n",
    "\n",
    "windPosition = go.Scatter(\n",
    "    x=[windPosition_km.iloc[-1]['x']], y=[windPosition_km.iloc[-1]['y']],\n",
    "    mode='markers',\n",
    "    name='WIND current position'\n",
    ")\n",
    "\n",
    "integralTrace = go.Scatter(\n",
    "    x=integralPosition_km['x'], y=integralPosition_km['y'],\n",
    "    mode='lines',\n",
    "    line=dict(\n",
    "        # color='#1f77b4',\n",
    "        width=3\n",
    "    ),\n",
    "    name='INTEGRAL orbit'\n",
    ")\n",
    "\n",
    "integralPosition = go.Scatter(\n",
    "    x=[integralPosition_km.iloc[-1]['x']], y=[integralPosition_km.iloc[-1]['y']],\n",
    "    mode='markers',\n",
    "    name='INTEGRAL current position'\n",
    ")\n",
    "\n",
    "sunDirection = go.Scatter(\n",
    "    x=[0, sunVector_WIND_distance.iloc[-1]['x']], y=[0, sunVector_WIND_distance.iloc[-1]['y']],\n",
    "    mode='lines',\n",
    "    line=dict(\n",
    "        color='#ffff00',\n",
    "        width=2\n",
    "    ),\n",
    "    name='Sun direction'\n",
    ")\n",
    "\n",
    "data = [sunDirection, windTrace, windPosition, integralTrace, integralPosition, earthCenter]\n",
    "\n",
    "layout = go.Layout(\n",
    "    title = f'WIND and INTEGRAL at {endDate} UTC',\n",
    "    xaxis = dict(\n",
    "        title='X, Earth-centered inertial, equator plane (km)'),\n",
    "    yaxis = dict(\n",
    "        title='Y, Earth-centered inertial, equator plane (km)'),\n",
    "    scene=dict(\n",
    "    aspectmode='data'\n",
    "    )\n",
    ")\n",
    "\n",
    "fig = dict(data=data, layout=layout)\n",
    "\n",
    "py.iplot(fig)"
   ]
  },
  {
   "cell_type": "markdown",
   "metadata": {},
   "source": [
    "Saving plot to file"
   ]
  },
  {
   "cell_type": "code",
   "execution_count": null,
   "metadata": {},
   "outputs": [],
   "source": [
    "import plotly.io as pio\n",
    "pio.write_json(fig, '2dtraj.plotly') # As editable plotly chart\n",
    "pio.write_image(fig, '2dtraj.eps') # As static EPS for LaTeX"
   ]
  }
 ],
 "metadata": {
  "kernelspec": {
   "display_name": "Python 3",
   "language": "python",
   "name": "python3"
  },
  "language_info": {
   "codemirror_mode": {
    "name": "ipython",
    "version": 3
   },
   "file_extension": ".py",
   "mimetype": "text/x-python",
   "name": "python",
   "nbconvert_exporter": "python",
   "pygments_lexer": "ipython3",
   "version": "3.7.1"
  }
 },
 "nbformat": 4,
 "nbformat_minor": 2
}
